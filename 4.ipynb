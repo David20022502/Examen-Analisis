{
 "cells": [
  {
   "cell_type": "code",
   "execution_count": null,
   "id": "874af8c2",
   "metadata": {},
   "outputs": [],
   "source": []
  },
  {
   "cell_type": "code",
   "execution_count": 7,
   "id": "73935ad8",
   "metadata": {},
   "outputs": [],
   "source": [
    "from facebook_scraper import get_posts\n",
    "import couchdb\n",
    "import json\n",
    "import time\n",
    "from pymongo import MongoClient"
   ]
  },
  {
   "cell_type": "code",
   "execution_count": 34,
   "id": "9790e273",
   "metadata": {},
   "outputs": [],
   "source": []
  },
  {
   "cell_type": "code",
   "execution_count": 8,
   "id": "8481c00b",
   "metadata": {},
   "outputs": [],
   "source": [
    "db_client = MongoClient(\"mongodb://localhost:27017\")\n",
    "my_db = db_client.get_database(\"examenweb\")\n",
    "my_posts=my_db['facebookweb']"
   ]
  },
  {
   "cell_type": "code",
   "execution_count": null,
   "id": "cb887fbb",
   "metadata": {},
   "outputs": [],
   "source": [
    "\n",
    "for post in get_posts('sabina.estefania.96', pages=1000, extra_info=True, credentials=('cacuangodarwin2002@hotmail.com', 'darwindavid20022502')):\n",
    "\n",
    "    doc={}\n",
    "\n",
    "    \n",
    "    mydate=post['time']\n",
    "    \n",
    "    try:\n",
    "        doc['texto']=post['text']\n",
    "        doc['date']=mydate.timestamp()\n",
    "        doc['likes']=post['likes']\n",
    "        doc['comments']=post['comments']\n",
    "        doc['shares']=post['shares']\n",
    "        try:\n",
    "            doc['reactions']=post['reactions']\n",
    "        except:\n",
    "            doc['reactions']={}\n",
    "\n",
    "        doc['post_url']=post['post_url']\n",
    "        my_posts.insert_one(doc)\n",
    "        print(\"guardado exitosamente\")\n",
    "\n",
    "    except Exception as e:    \n",
    "        print(\"no se pudo grabar:\" + str(e))"
   ]
  },
  {
   "cell_type": "code",
   "execution_count": null,
   "id": "83f3ca3d",
   "metadata": {},
   "outputs": [],
   "source": []
  }
 ],
 "metadata": {
  "kernelspec": {
   "display_name": "Python 3",
   "language": "python",
   "name": "python3"
  },
  "language_info": {
   "codemirror_mode": {
    "name": "ipython",
    "version": 3
   },
   "file_extension": ".py",
   "mimetype": "text/x-python",
   "name": "python",
   "nbconvert_exporter": "python",
   "pygments_lexer": "ipython3",
   "version": "3.9.5"
  }
 },
 "nbformat": 4,
 "nbformat_minor": 5
}
